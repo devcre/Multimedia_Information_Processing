{
 "cells": [
  {
   "cell_type": "code",
   "execution_count": 1,
   "metadata": {},
   "outputs": [],
   "source": [
    "# 텐서플로우 라이브러리 임포트\n",
    "import tensorflow as tf"
   ]
  },
  {
   "cell_type": "code",
   "execution_count": 2,
   "metadata": {},
   "outputs": [],
   "source": [
    "# 그래프 초기화\n",
    "tf.reset_default_graph()"
   ]
  },
  {
   "cell_type": "code",
   "execution_count": 3,
   "metadata": {},
   "outputs": [
    {
     "name": "stdout",
     "output_type": "stream",
     "text": [
      "Tensor(\"Placeholder:0\", shape=(1,), dtype=float32)\n",
      "Tensor(\"Const:0\", shape=(1,), dtype=float32)\n",
      "Tensor(\"Const_1:0\", shape=(1,), dtype=float32)\n"
     ]
    }
   ],
   "source": [
    "# placeholder 정의\n",
    "x = tf.placeholder(dtype=tf.float32, shape=[1])\n",
    "W = tf.constant(value=[0.55], dtype=tf.float32)\n",
    "b = tf.constant(value=[-26.7], dtype=tf.float32)\n",
    "\n",
    "print(x)\n",
    "print(W)\n",
    "print(b)"
   ]
  },
  {
   "cell_type": "code",
   "execution_count": 4,
   "metadata": {},
   "outputs": [],
   "source": [
    "# 모델 정의\n",
    "y = (W * x) + b"
   ]
  },
  {
   "cell_type": "code",
   "execution_count": 5,
   "metadata": {},
   "outputs": [],
   "source": [
    "# 세션 정의 및 결과 테스트\n",
    "sess = tf.Session()"
   ]
  },
  {
   "cell_type": "code",
   "execution_count": 6,
   "metadata": {},
   "outputs": [
    {
     "name": "stdout",
     "output_type": "stream",
     "text": [
      "[61.3]\n"
     ]
    }
   ],
   "source": [
    "result = sess.run(y, feed_dict={x:[160.0]})\n",
    "print(result)"
   ]
  },
  {
   "cell_type": "code",
   "execution_count": 7,
   "metadata": {},
   "outputs": [
    {
     "name": "stdout",
     "output_type": "stream",
     "text": [
      "키를 입력해주세요: 166\n",
      "단일 뉴런이 예측한 당신의 몸무게:  64.600006\n"
     ]
    }
   ],
   "source": [
    "height = input(\"키를 입력해주세요: \")\n",
    "height = [float(height)]\n",
    "weight = sess.run(y, feed_dict={x:height})\n",
    "print(\"단일 뉴런이 예측한 당신의 몸무게: \", weight[0])"
   ]
  },
  {
   "cell_type": "code",
   "execution_count": 12,
   "metadata": {},
   "outputs": [],
   "source": [
    "# 텐서보드 로그 저장하기(graph 만)\n",
    "writer = tf.summary.FileWriter(\"./log/\", sess.graph)"
   ]
  },
  {
   "cell_type": "code",
   "execution_count": null,
   "metadata": {},
   "outputs": [],
   "source": []
  }
 ],
 "metadata": {
  "kernelspec": {
   "display_name": "Python 3",
   "language": "python",
   "name": "python3"
  },
  "language_info": {
   "codemirror_mode": {
    "name": "ipython",
    "version": 3
   },
   "file_extension": ".py",
   "mimetype": "text/x-python",
   "name": "python",
   "nbconvert_exporter": "python",
   "pygments_lexer": "ipython3",
   "version": "3.6.8"
  }
 },
 "nbformat": 4,
 "nbformat_minor": 2
}
