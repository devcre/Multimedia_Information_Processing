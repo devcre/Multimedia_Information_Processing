{
 "cells": [
  {
   "cell_type": "code",
   "execution_count": 1,
   "metadata": {},
   "outputs": [],
   "source": [
    "# 참고자료: https://github.com/davidsandberg/facenet\n",
    "import numpy as np\n",
    "import tensorflow as tf\n",
    "import matplotlib.pyplot as plt\n",
    "import cv2\n",
    "import math\n",
    "\n",
    "# 주성분분석(Principal Analysis)을 하기위한 라이브러리\n",
    "from sklearn.decomposition import PCA\n",
    "\n",
    "# 파일 경로 확인용\n",
    "import os\n",
    "import glob\n",
    "\n",
    "# .py 파일 가져오기\n",
    "# import (폴더이름.)파일이름\n",
    "import src.facenet as facenet\n",
    "import src.align.detect_face as detect_face\n",
    "\n",
    "# path를 입력받아 immread하고, BGR2RGB로 convert하는 함수\n",
    "def MyImread(path):\n",
    "    bgr_img = cv2.imread(path)\n",
    "    assert bgr_img is not None, \"영상 로드 실패\"\n",
    "    \n",
    "    rgb_img = cv2.cvtColor(bgr_img, cv2.COLOR_BGR2RGB)\n",
    "    return rgb_img"
   ]
  },
  {
   "cell_type": "code",
   "execution_count": 2,
   "metadata": {},
   "outputs": [],
   "source": [
    "## 사용할 함수\n",
    "\n",
    "# 학습되어있는 모델을 로드하는 함수\n",
    "#    입력: protobuf 파일(모델이 정의되어 있음)\n",
    "#    리턴:\n",
    "#        - single_image: 영상을 입력하는 placeholder (session.run feed_dict에 사용)\n",
    "#        - embeddings: 네트워크의 출력 값, 512차원의 추출된 얼굴 특징 벡터\n",
    "\n",
    "def load_model(pb_path, image_size=(160,160)):\n",
    "    tf.reset_default_graph()\n",
    "    \n",
    "    single_image = tf.placeholder(tf.int32, (None,None,3))\n",
    "    float_image = tf.cast(single_image, tf.float32)\n",
    "    float_image = float_image / 255\n",
    "    batch_image = tf.expand_dims(float_image, 0)\n",
    "    resized_image = tf.image.resize(batch_image, image_size)\n",
    "    \n",
    "    phase_train = tf.placeholder_with_default(False, shape=[])\n",
    "    \n",
    "    input_map = {'image_batch':resized_image, 'phase_train':phase_train}\n",
    "    model = facenet.load_model(pb_path, input_map)\n",
    "    \n",
    "    embeddings = tf.get_default_graph().get_tensor_by_name(\"embeddings:0\")\n",
    "    \n",
    "    return single_image, embeddings\n",
    "\n",
    "# 영상 경로를 입력박아 로드하고, return해주는 함수\n",
    "def load_image(image_path):\n",
    "    image = cv2.imread(image_path)\n",
    "    image = cv2.cvtColor(image, cv2.COLOR_BGR2RGB)  \n",
    "    return image\n",
    "\n",
    "# 두 벡터간의 거리를 계산하는 함수\n",
    "def calc_distance(embedding1, embedding2):\n",
    "    # Euclidian distance\n",
    "    diff = np.subtract(embedding1, embedding2)\n",
    "    dist = np.sum(np.square(diff),0) \n",
    "    return dist\n",
    "\n",
    "# 얼굴 검출\n",
    "# bounding_boxes, points = detect_face.detect_face(image, minsize, pnet, rnet, onet, threshold, factor)"
   ]
  },
  {
   "cell_type": "code",
   "execution_count": 3,
   "metadata": {},
   "outputs": [
    {
     "name": "stdout",
     "output_type": "stream",
     "text": [
      "Model filename: ./models/20180402-114759.pb\n",
      "WARNING:tensorflow:From C:\\mip2019\\src\\facenet.py:371: FastGFile.__init__ (from tensorflow.python.platform.gfile) is deprecated and will be removed in a future version.\n",
      "Instructions for updating:\n",
      "Use tf.gfile.GFile.\n",
      "WARNING:tensorflow:From C:\\Users\\wsx13\\Anaconda3\\envs\\mip2019\\lib\\site-packages\\tensorflow\\python\\framework\\op_def_library.py:263: colocate_with (from tensorflow.python.framework.ops) is deprecated and will be removed in a future version.\n",
      "Instructions for updating:\n",
      "Colocations handled automatically by placer.\n",
      "WARNING:tensorflow:From C:\\mip2019\\src\\align\\detect_face.py:213: div (from tensorflow.python.ops.math_ops) is deprecated and will be removed in a future version.\n",
      "Instructions for updating:\n",
      "Deprecated in favor of operator or tf.math.divide.\n"
     ]
    }
   ],
   "source": [
    "## 모델 및 세션 선언\n",
    "tf.reset_default_graph()\n",
    "single_image, embeddings = load_model(\"./models/20180402-114759.pb\")\n",
    "\n",
    "sess = tf.Session()\n",
    "\n",
    "## 학습되어 있는 detection 모델 로드\n",
    "pnet, rnet, onet = detect_face.create_mtcnn(sess, None)"
   ]
  },
  {
   "cell_type": "code",
   "execution_count": 4,
   "metadata": {},
   "outputs": [
    {
     "name": "stdout",
     "output_type": "stream",
     "text": [
      "(33, 512)\n"
     ]
    }
   ],
   "source": [
    "## 내 얼굴의 특징벡터(embedding)추출\n",
    "\n",
    "path_me = glob.glob(\"./project1/data/faces/me/*\")\n",
    "\n",
    "embed_me = []\n",
    "\n",
    "for path in path_me:\n",
    "    img = load_image(path)\n",
    "    result = sess.run(embeddings, feed_dict={single_image:img})\n",
    "    result = result[0]\n",
    "    embed_me.append(result)\n",
    "    \n",
    "embed_me = np.array(embed_me)\n",
    "print(embed_me.shape)"
   ]
  },
  {
   "cell_type": "code",
   "execution_count": 5,
   "metadata": {},
   "outputs": [
    {
     "name": "stdout",
     "output_type": "stream",
     "text": [
      "(5, 512)\n",
      "(22, 512)\n"
     ]
    }
   ],
   "source": [
    "## 다른 사람 얼굴의 특징벡터(embedding)추출\n",
    "\n",
    "path_other1 = glob.glob(\"./data/faces/other1/*\")\n",
    "\n",
    "embed_other1 = []\n",
    "\n",
    "for path in path_other1:\n",
    "    img = load_image(path)\n",
    "    result = sess.run(embeddings, feed_dict={single_image:img})\n",
    "    result = result[0]\n",
    "    embed_other1.append(result)\n",
    "    \n",
    "embed_other1 = np.array(embed_other1)\n",
    "print(embed_other1.shape)\n",
    "\n",
    "path_other2 = glob.glob(\"./data/faces/other2/*\")\n",
    "\n",
    "embed_other2 = []\n",
    "\n",
    "for path in path_other2:\n",
    "    img = load_image(path)\n",
    "    result = sess.run(embeddings, feed_dict={single_image:img})\n",
    "    result = result[0]\n",
    "    embed_other2.append(result)\n",
    "    \n",
    "embed_other2 = np.array(embed_other2)\n",
    "print(embed_other2.shape)"
   ]
  },
  {
   "cell_type": "code",
   "execution_count": 6,
   "metadata": {},
   "outputs": [
    {
     "name": "stdout",
     "output_type": "stream",
     "text": [
      "0.25440568\n",
      "1.9826021\n"
     ]
    }
   ],
   "source": [
    "# 얼굴 특징벡터 간의 거리 확인\n",
    "# 내얼굴 1과 내얼굴 2의 거리 확인\n",
    "print(calc_distance(embed_me[0], embed_me[1]))\n",
    "\n",
    "# 내얼굴 1과 다른사람 얼굴 1의 거리 확인\n",
    "print(calc_distance(embed_me[0], embed_other1[0]))"
   ]
  },
  {
   "cell_type": "code",
   "execution_count": 7,
   "metadata": {},
   "outputs": [
    {
     "name": "stdout",
     "output_type": "stream",
     "text": [
      "---------- 내 얼굴과의 거리 ----------\n",
      "0.0\n",
      "0.25440568\n",
      "0.32737476\n",
      "0.51248014\n",
      "0.7384288\n",
      "0.48129958\n",
      "0.33555388\n",
      "0.47563687\n",
      "0.3923577\n",
      "0.44124377\n",
      "0.55606544\n",
      "0.35561752\n",
      "0.46319038\n",
      "0.36075008\n",
      "0.3632886\n",
      "0.389556\n",
      "0.5572383\n",
      "0.5111393\n",
      "0.5431389\n",
      "0.37135983\n",
      "0.54040504\n",
      "0.4422124\n",
      "0.47523654\n",
      "0.6505408\n",
      "0.6153608\n",
      "0.8027885\n",
      "0.5117248\n",
      "0.5356058\n",
      "0.48160684\n",
      "0.42867082\n",
      "0.5500677\n",
      "0.5379881\n",
      "0.4592921\n",
      "\n",
      "\n",
      "\n",
      "---------- 다른 사람 얼굴과의 거리 ----------\n",
      "1.9826021\n",
      "1.9660068\n",
      "2.0650756\n",
      "2.1212792\n",
      "1.7452468\n",
      "1.8273803\n",
      "1.8323042\n",
      "1.8692644\n",
      "1.8892179\n",
      "1.8973544\n",
      "1.9185641\n",
      "1.9699279\n",
      "1.8495053\n",
      "1.943949\n",
      "2.0061598\n",
      "1.9909546\n",
      "1.81219\n",
      "1.6928296\n",
      "1.9928223\n",
      "1.7658846\n",
      "1.8973328\n",
      "2.085444\n",
      "1.7838733\n",
      "1.9395164\n",
      "1.8967055\n",
      "2.0314188\n",
      "1.7393726\n"
     ]
    }
   ],
   "source": [
    "# 기준이 되는 얼굴 임베딩 설정\n",
    "base_embed = embed_me[0]\n",
    "\n",
    "print(\"---------- 내 얼굴과의 거리 ----------\")\n",
    "# 얼굴 0~N 까지 확인\n",
    "for e in embed_me:\n",
    "    print(calc_distance(base_embed, e))\n",
    "    \n",
    "print(\"\\n\\n\")\n",
    "print(\"---------- 다른 사람 얼굴과의 거리 ----------\")\n",
    "# 다른 사람1, 2를 묶어서 확인\n",
    "embed_others = np.concatenate((embed_other1, embed_other2), axis=0)\n",
    "for e in embed_others:\n",
    "    print(calc_distance(base_embed, e))"
   ]
  },
  {
   "cell_type": "code",
   "execution_count": 8,
   "metadata": {},
   "outputs": [
    {
     "data": {
      "text/plain": [
       "<matplotlib.legend.Legend at 0x29c834b0198>"
      ]
     },
     "execution_count": 8,
     "metadata": {},
     "output_type": "execute_result"
    },
    {
     "data": {
      "image/png": "[encoded data removed]",
      "text/plain": [
       "<Figure size 432x288 with 1 Axes>"
      ]
     },
     "metadata": {
      "needs_background": "light"
     },
     "output_type": "display_data"
    }
   ],
   "source": [
    "## PCA를 사용한 시각화(512->2차원으로 감소)\n",
    "# 모든 임베딩을 묶음\n",
    "all_embeddings = np.concatenate((embed_me, embed_other1, embed_other2), axis=0)\n",
    "\n",
    "# PCA 클래스 선언 (n_component는 축소할 차원을 의미)\n",
    "pca = PCA(n_components=2)\n",
    "\n",
    "# PCA 계산 (이후 pca.transform 함수를 사용하여 512차원을 2차원으로 축소)\n",
    "pca.fit(all_embeddings)\n",
    "\n",
    "# PCA를 사용하여 차원 축소\n",
    "xy_me = pca.transform(embed_me)\n",
    "xy_other1 = pca.transform(embed_other1)\n",
    "xy_other2 = pca.transform(embed_other2)\n",
    "\n",
    "ax = plt.figure()\n",
    "\n",
    "sc1 = plt.scatter(xy_me[:,0], xy_me[:,1], color=(1, 0, 0))\n",
    "sc2 = plt.scatter(xy_other1[:,0], xy_other1[:,1], color=(0, 1, 0.4))\n",
    "sc3 = plt.scatter(xy_other2[:,0], xy_other2[:,1], color=(0, 1, 1))\n",
    "\n",
    "plt.legend([sc1,sc2,sc3], [\"me\", \"other1\", \"other2\"], loc=\"upper right\")"
   ]
  },
  {
   "cell_type": "code",
   "execution_count": 9,
   "metadata": {},
   "outputs": [
    {
     "name": "stdout",
     "output_type": "stream",
     "text": [
      "distance: 0.2562400698661804\n",
      "./project1/data/faces/me/20190319_222026.jpg 는 내 얼굴입니다\n"
     ]
    }
   ],
   "source": [
    "## 내 얼굴인지 분류\n",
    "# 영상 경로를 자유롭게 수정\n",
    "x_path = \"./project1/data/faces/me/20190319_222026.jpg\"\n",
    "\n",
    "image_x = load_image(x_path)\n",
    "result_x = sess.run(embeddings, feed_dict={single_image:image_x})\n",
    "result_x = result_x[0]\n",
    "\n",
    "distance_th = 1.2 # 거리가 얼마 미만이여야 나로 분류할지\n",
    "\n",
    "distance1 = calc_distance(embed_me[0], result_x)\n",
    "distance2 = calc_distance(embed_me[3], result_x)\n",
    "\n",
    "avg_distance = (distance1+distance2) / 2\n",
    "print(\"distance:\", avg_distance)\n",
    "\n",
    "if(avg_distance < distance_th):\n",
    "    print(x_path, \"는 내 얼굴입니다\")\n",
    "else:\n",
    "    print(x_path, \"는 내 얼굴이 아닙니다\")"
   ]
  },
  {
   "cell_type": "code",
   "execution_count": 13,
   "metadata": {},
   "outputs": [],
   "source": [
    "# 영상을 입력받아 face detection을 수행하고,\n",
    "# 얼굴 영역에 네모를 그려 return해주는 함수\n",
    "def FaceDetection(img):\n",
    "    color = (255, 0, 0) # 얼굴 영역을 표시할 네모의 색상 지정\n",
    "    color_red = (0, 255, 0) # 내얼굴이 아닌 얼굴\n",
    "    thickness = 2 # 네모의 두께\n",
    "    \n",
    "    result_img = img.copy()\n",
    "    \n",
    "    gray_img = cv2.cvtColor(img, cv2.COLOR_RGB2GRAY)\n",
    "    \n",
    "    # 이미 학습되어있는 Haar Cascade Classifier 로드\n",
    "    face_cascade = cv2.CascadeClassifier(\"./practice5/haarcascade_frontalface_default.xml\")\n",
    "    \n",
    "    # 얼굴 검출 수행\n",
    "    faces = face_cascade.detectMultiScale(gray_img, 1.1, 5)\n",
    "    \n",
    "    if(avg_distance < distance_th):\n",
    "        # 검출된 얼굴 영역 그리기\n",
    "        for (x,y,w,h) in faces:\n",
    "            cv2.rectangle(result_img, (x,y), (x+w,y+h), color, 2)\n",
    "    else:\n",
    "        for (x,y,w,h) in faces:\n",
    "            cv2.rectangle(result_img, (x,y), (x+w,y+h), color_red, 2)\n",
    "    \n",
    "    return result_img"
   ]
  },
  {
   "cell_type": "code",
   "execution_count": 14,
   "metadata": {},
   "outputs": [],
   "source": [
    "# 내얼굴과 다른사람의 얼굴이 있는영상으로 내얼굴 검출\n",
    "cap = cv2.VideoCapture(\"./project1/data/faces/video/people.mp4\")\n",
    "\n",
    "while(cap.isOpened()):\n",
    "    ret, frame = cap.read()\n",
    "    \n",
    "    frame = cv2. resize(frame,(400,225))\n",
    "    \n",
    "    detected_faces = FaceDetection(frame)\n",
    "    \n",
    "    cv2.imshow('frame', frame)\n",
    "    cv2.imshow('detected', detected_faces)\n",
    "    \n",
    "    if cv2.waitKey(1) & 0xFF == ord('q'):\n",
    "        break\n",
    "\n",
    "cap.release()\n",
    "cv2.destroyAllWindows()"
   ]
  },
  {
   "cell_type": "code",
   "execution_count": null,
   "metadata": {},
   "outputs": [],
   "source": [
    "0. 내 얼굴들의 임베딩을 미리 계산(실습 1의 embed_me)\n",
    "1. 동영상 로드\n",
    "2. 프레임 별로 얼굴 검출\n",
    "3. 검출된 각 얼굴(2번)에 대하여 내 얼굴들(0번)과 거리 비교\n",
    "4. 거리가 일정 값 미만이면 내 얼굴로 인식(평균, top-k 등 다양한 방법 사용 가능)\n",
    "5. 결과 표시(bounding box 빨강, 초록 그리기)"
   ]
  }
 ],
 "metadata": {
  "kernelspec": {
   "display_name": "Python 3",
   "language": "python",
   "name": "python3"
  },
  "language_info": {
   "codemirror_mode": {
    "name": "ipython",
    "version": 3
   },
   "file_extension": ".py",
   "mimetype": "text/x-python",
   "name": "python",
   "nbconvert_exporter": "python",
   "pygments_lexer": "ipython3",
   "version": "3.6.8"
  }
 },
 "nbformat": 4,
 "nbformat_minor": 2
}
